{
 "cells": [
  {
   "cell_type": "markdown",
   "metadata": {},
   "source": [
    "# BaseLine 설명\n",
    "각 column의 의미는 다음과 같습니다.\n",
    "- `faultNumber` : 정상인지, 비정상인지 나타내는 Label 입니다. 정상일 경우 `0`, 비정상일 경우 `1` 입니다. \n",
    "- `simulationRun` : 시뮬레이션이 실행된 Run 의 번호 입니다. \n",
    "  - 동일한 하나의 `simulationRun` 이 정상일 경우 `faultNumber` 가 모두 `0` 입니다.\n",
    "  - 반대로 하나의 `simulationRun` 이 비정상일 경우 `faultNumber` 가 모두 `1` 입니다.\n",
    "  - 학습 데이터에는 정상 데이터만 존재합니다. 따라서 `faultNumber` 가 모두 `0` 입니다.\n",
    "  - 테스트 데이터에는 정상/비정상 데이터가 모두 존재합니다. 따라서 `faultNumber` 가 모두 `0`인 `simulationRun` 도 있고, `faultNumber` 모두 `1`인 `simulationRun` 도 있습니다.\n",
    "- `sample` : 하나의 Run 안의 sample 번호를 의미합니다. 학습 데이터는 한 Run 당 500 sample 이 있습니다.\n",
    "- `xmeas_*` : measurement 의 약자로, 화학 공정에서 측정된 센서 값 입니다.\n",
    "- `xmv_*` : manipulated variable 의 약자로, 화학 공정에서 제어되는 값 입니다.\n",
    "    - measurement 와 manipulated 관련 설명은 [다음 자료](https://chemicalada.blogspot.com/2016/02/classification-of-variables-in-chemical.html)를 참고하시기 바랍니다."
   ]
  },
  {
   "cell_type": "markdown",
   "metadata": {},
   "source": [
    "# 주의사항\n",
    "되도록 시각화 그림은 출력보다 저장하여 확인하는 것을 추천.... 데이터가 많아 렉이 심함"
   ]
  },
  {
   "cell_type": "code",
   "execution_count": 4,
   "metadata": {},
   "outputs": [],
   "source": [
    "from typing import Union\n",
    "import matplotlib.pyplot as plt\n",
    "import numpy as np\n",
    "import pandas as pd\n",
    "import random\n",
    "import plotly.express as px\n",
    "from plotly.subplots import make_subplots\n",
    "import plotly.graph_objects as go\n",
    "import plotly\n",
    "import plotly.io as pio\n",
    "from plotly.subplots import make_subplots\n",
    "from pathlib import Path\n",
    "from sklearn.decomposition import PCA\n",
    "from sklearn.preprocessing import StandardScaler\n",
    "\n",
    "# 데이터가 많아 plotly로 시각화시 인터렉션 활성화시 팅김 주의!!!! 특히 test데이터는 더더욱\n",
    "config = {\n",
    "    'staticPlot': True,  # 인터랙션 비활성화 (호버, 확대/축소 등)\n",
    "}\n",
    "\n"
   ]
  },
  {
   "cell_type": "code",
   "execution_count": 5,
   "metadata": {},
   "outputs": [],
   "source": [
    "DATA_PATH = Path(\"C:/Users/lim/Desktop/upstage AI/AD_project/data\")\n",
    "train_data = pd.read_csv(DATA_PATH / \"train.csv\")\n",
    "test_data = pd.read_csv(DATA_PATH / \"test.csv\")"
   ]
  },
  {
   "cell_type": "code",
   "execution_count": 6,
   "metadata": {},
   "outputs": [],
   "source": [
    "def process_data(df) -> pd.DataFrame:\n",
    "    numeric_cols = [\n",
    "        'xmeas_1', 'xmeas_2', 'xmeas_3', 'xmeas_4', 'xmeas_5', 'xmeas_6',\n",
    "        'xmeas_7', 'xmeas_8', 'xmeas_9', 'xmeas_10', 'xmeas_11', 'xmeas_12',\n",
    "        'xmeas_13', 'xmeas_14', 'xmeas_15', 'xmeas_16', 'xmeas_17', 'xmeas_18',\n",
    "        'xmeas_19', 'xmeas_20', 'xmeas_21', 'xmeas_22', 'xmeas_23', 'xmeas_24',\n",
    "        'xmeas_25', 'xmeas_26', 'xmeas_27', 'xmeas_28', 'xmeas_29', 'xmeas_30',\n",
    "        'xmeas_31', 'xmeas_32', 'xmeas_33', 'xmeas_34', 'xmeas_35', 'xmeas_36',\n",
    "        'xmeas_37', 'xmeas_38', 'xmeas_39', 'xmeas_40', 'xmeas_41', 'xmv_1',\n",
    "        'xmv_2', 'xmv_3', 'xmv_4', 'xmv_5', 'xmv_6', 'xmv_7', 'xmv_8',\n",
    "        'xmv_9', 'xmv_10', 'xmv_11', 'simulationRun'\n",
    "    ]\n",
    "    return df[numeric_cols]"
   ]
  },
  {
   "cell_type": "code",
   "execution_count": 7,
   "metadata": {},
   "outputs": [],
   "source": [
    "train_a = process_data(train_data)\n",
    "test_a = process_data(test_data)"
   ]
  },
  {
   "cell_type": "code",
   "execution_count": null,
   "metadata": {},
   "outputs": [],
   "source": [
    "\n",
    "subfig = make_subplots(specs=[[{\"secondary_y\": True}]])\n",
    "\n",
    "fig1 = px.line(test_data[[\"simulationRun\"]].iloc[:5000])\n",
    "fig2 = px.line(test_data[[\"sample\"]].iloc[:5000])\n",
    "fig2.update_traces(yaxis=\"y2\")\n",
    "\n",
    "subfig.layout.yaxis.title=\"index\"\n",
    "subfig.layout.yaxis.title=\"simulationRun\"\n",
    "subfig.layout.yaxis2.title=\"sample\"\n",
    "subfig.layout.title = \"simulationRun and sample plot\" \n",
    "subfig.add_traces(fig1.data + fig2.data)\n",
    "subfig.for_each_trace(lambda t: t.update(line=dict(color=t.marker.color)))\n",
    "pio.show(subfig, config=config)"
   ]
  },
  {
   "cell_type": "code",
   "execution_count": null,
   "metadata": {},
   "outputs": [],
   "source": [
    "train_a.hist(figsize=(20, 15))\n",
    "plt.tight_layout()\n",
    "plt.show()"
   ]
  },
  {
   "cell_type": "code",
   "execution_count": null,
   "metadata": {},
   "outputs": [],
   "source": [
    "test_a.hist(figsize=(20, 15))\n",
    "plt.tight_layout()\n",
    "plt.show()"
   ]
  },
  {
   "cell_type": "code",
   "execution_count": null,
   "metadata": {},
   "outputs": [],
   "source": [
    "fig = make_subplots(rows= 7, cols= 8)\n",
    "row, col = 1, 1  # 초기 row와 col 설정\n",
    "\n",
    "for i, column in enumerate(train_a.columns):\n",
    "    # 열 데이터에 해당하는 y값으로 그래프 추가\n",
    "    fig.add_trace(go.Box(y=train_data[column],name=column),\n",
    "                  row=row, col=col)\n",
    "    \n",
    "    # 열의 순서에 따라 col을 증가시키고 8 이상이면 row 증가\n",
    "    col += 1\n",
    "    if col > 8:  # 8 열마다 새 행으로 넘어감\n",
    "        col = 1\n",
    "        row += 1\n",
    "\n",
    "# fig.show()를 통해 그래프를 확인\n",
    "fig.update_layout(\n",
    "    title='Box plot',\n",
    "    width=1200, height=1200,\n",
    "   # staticPlot=True  # 호버 기능 제거 및 정적 렌더링\n",
    ")\n",
    "\n",
    "# 그래프 표시\n",
    "pio.show(fig, config=config)"
   ]
  },
  {
   "cell_type": "markdown",
   "metadata": {},
   "source": [
    "plotly 그림 저장을 위해 아래 설치 필요\n",
    "\n",
    "conda install -c conda-forge python-kaleido\n",
    "\n",
    "설치 안될시 plt 사용"
   ]
  },
  {
   "cell_type": "code",
   "execution_count": 12,
   "metadata": {},
   "outputs": [],
   "source": [
    "# df => 데이터\n",
    "def xmv_vs_xmeas_corr(df, type, text):\n",
    "    if type == 'plotly':\n",
    "        for i in range(1, 12):  # xmv_1 ~ xmv_11에 대해 반복\n",
    "            xmv_col = f'xmv_{i}'  # 현재 분석할 xmv 컬럼\n",
    "            \n",
    "            # xmv 컬럼과 모든 xmeas 컬럼들 간의 상관관계를 계산\n",
    "            correlation_series = df[[xmv_col]].join(df[[f'xmeas_{j}' for j in range(1, 42)]]).corr().iloc[0, 1:]\n",
    "\n",
    "            # Plotly 막대 그래프 생성\n",
    "            fig = go.Figure(data=[\n",
    "                go.Bar(\n",
    "                    x=correlation_series.index,\n",
    "                    y=correlation_series.values,\n",
    "                    text=[f'{val:.2f}' for val in correlation_series.values],  # 상관계수 표시\n",
    "                    textposition='outside',  # 막대 위에 텍스트 위치\n",
    "                    marker_color='skyblue'  # 막대 색상 설정\n",
    "                )\n",
    "            ])\n",
    "\n",
    "            # 그래프 레이아웃 설정\n",
    "            fig.update_layout(\n",
    "                title=f\"Correlation: {xmv_col} vs xmeas_1~41\",\n",
    "                xaxis_title=\"xmeas Variables\",\n",
    "                yaxis_title=\"Correlation Coefficient\",\n",
    "                xaxis_tickangle=90,  # x축 라벨 회전\n",
    "                yaxis_range=[-1, 1],  # 상관계수 범위 설정\n",
    "                height=600, width=800,  # 그래프 크기 조정\n",
    "                showlegend=False  # 범례 숨기기\n",
    "            )\n",
    "\n",
    "\n",
    "            # 이미지로 저장 (파일로 저장 시 `write_image` 사용)\n",
    "            filename = f\"correlation_bar_{xmv_col}_{text}.png\"\n",
    "            fig.write_image(filename, scale=3)\n",
    "            \n",
    "    if type == 'plt':\n",
    "        for i in range(1, 12):  # xmv_1 ~ xmv_10에 대해 반복\n",
    "            xmv_col = f'xmv_{i}'  # 현재 분석할 xmv 컬럼\n",
    "            \n",
    "            # xmv 컬럼과 모든 xmeas 컬럼들 간의 상관관계를 계산\n",
    "            correlation_series = df[[xmv_col]].join(df[[f'xmeas_{j}' for j in range(1, 42)]]).corr().iloc[0, 1:]\n",
    "\n",
    "            # 막대그래프 그리기\n",
    "            plt.figure(figsize=(12, 6))\n",
    "            bars = plt.bar(correlation_series.index, correlation_series.values, color='skyblue')\n",
    "\n",
    "            # 막대 위에 상관계수 값 표시\n",
    "            for bar in bars:\n",
    "                yval = bar.get_height()\n",
    "                plt.text(bar.get_x() + bar.get_width()/2, yval, f'{yval:.2f}', ha='center', va='bottom')\n",
    "\n",
    "            # 그래프 설정\n",
    "            plt.title(f\"Correlation: {xmv_col} vs xmeas_1~41\")\n",
    "            plt.xlabel('xmeas Variables')\n",
    "            plt.ylabel('Correlation Coefficient')\n",
    "            plt.xticks(rotation=90)  # x축 라벨 회전\n",
    "            plt.ylim(-1, 1)  # 상관계수 범위\n",
    "            plt.tight_layout()  # 레이아웃 조정\n",
    "\n",
    "            # 파일로 저장\n",
    "            filename = f\"correlation_bar_{xmv_col}_{text}.png\"\n",
    "            plt.savefig(filename)\n",
    "            plt.close()  # 저장 후 플롯 닫기\n"
   ]
  },
  {
   "cell_type": "code",
   "execution_count": 13,
   "metadata": {},
   "outputs": [],
   "source": [
    "xmv_vs_xmeas_corr(test_a, 'plotly' ,'test')"
   ]
  },
  {
   "cell_type": "code",
   "execution_count": 14,
   "metadata": {},
   "outputs": [],
   "source": [
    "xmv_vs_xmeas_corr(train_a, 'plotly' ,'train')"
   ]
  },
  {
   "cell_type": "code",
   "execution_count": 21,
   "metadata": {},
   "outputs": [],
   "source": [
    "def heatmap_xmv_xmeas(df, graph_on_off='off'):\n",
    "    xmv_columns = [f'xmv_{i}' for i in range(1, 12)]\n",
    "    xmv_data = df[xmv_columns]\n",
    "\n",
    "    # 상관관계 행렬 계산\n",
    "    correlation_matrix = xmv_data.corr()\n",
    "\n",
    "    # 각 셀에 표시할 텍스트 생성 (소수점 2자리까지)\n",
    "    text = [[f'{val:.2f}' for val in row] for row in correlation_matrix.values]\n",
    "\n",
    "    # Plotly 히트맵 생성\n",
    "    fig = go.Figure(data=go.Heatmap(\n",
    "        z=correlation_matrix.values,\n",
    "        x=correlation_matrix.columns,\n",
    "        y=correlation_matrix.index,\n",
    "        colorscale='RdBu',  # coolwarm과 비슷한 대체 색상\n",
    "        zmin=-1, zmax=1,\n",
    "        text=text,  # 셀 내부에 표시할 텍스트\n",
    "        texttemplate=\"%{text}\",  # 텍스트 포맷 설정\n",
    "        ))\n",
    "\n",
    "    # 그래프 레이아웃 설정\n",
    "    fig.update_layout(\n",
    "        title=\"Correlation Matrix: xmv_1 ~ xmv_11\",\n",
    "        xaxis=dict(tickangle=45),  # x축 라벨 회전\n",
    "        height=600, width=800\n",
    "    )\n",
    "\n",
    "    # 그래프 표시 및 저장\n",
    "    if graph_on_off == 'on':\n",
    "        pio.show(fig, config=config)\n",
    "    filename = \"correlation_map_xmv.png\"\n",
    "    fig.write_image(filename, scale=3)\n",
    "    \n",
    "\n",
    "    xmv_columns = [f'xmeas_{i}' for i in range(1, 42)]\n",
    "    xmv_data = df[xmv_columns]\n",
    "\n",
    "    # 상관관계 행렬 계산\n",
    "    correlation_matrix = xmv_data.corr()\n",
    "\n",
    "    # 각 셀에 표시할 텍스트 생성 (소수점 2자리까지)\n",
    "    text = [[f'{val:.2f}' for val in row] for row in correlation_matrix.values]\n",
    "\n",
    "    # Plotly 히트맵 생성\n",
    "    fig = go.Figure(data=go.Heatmap(\n",
    "        z=correlation_matrix.values,\n",
    "        x=correlation_matrix.columns,\n",
    "        y=correlation_matrix.index,\n",
    "        colorscale='RdBu',  # coolwarm과 비슷한 대체 색상\n",
    "        zmin=-1, zmax=1,\n",
    "        text=text,  # 셀 내부에 표시할 텍스트\n",
    "        texttemplate=\"%{text}\",  # 텍스트 포맷 설정\n",
    "    ))\n",
    "\n",
    "    # 그래프 레이아웃 설정\n",
    "    fig.update_layout(\n",
    "        title=\"Correlation Matrix: xmeas_1 ~ xmeas_41\",\n",
    "        xaxis=dict(tickangle=45),  # x축 라벨 회전\n",
    "        height=600, width=800\n",
    "    )\n",
    "\n",
    "    # 그래프 표시 및 저장\n",
    "    if graph_on_off == 'on':\n",
    "        pio.show(fig, config=config)\n",
    "    filename = \"correlation_map_xmeas.png\"\n",
    "    fig.write_image(filename, scale=3)\n",
    "\n"
   ]
  },
  {
   "cell_type": "code",
   "execution_count": 22,
   "metadata": {},
   "outputs": [],
   "source": [
    "heatmap_xmv_xmeas(test_a)"
   ]
  },
  {
   "cell_type": "code",
   "execution_count": 23,
   "metadata": {},
   "outputs": [],
   "source": [
    "heatmap_xmv_xmeas(train_a)"
   ]
  },
  {
   "cell_type": "code",
   "execution_count": 30,
   "metadata": {},
   "outputs": [],
   "source": [
    "def PCA_test(data, text, graph_on_off='off'):\n",
    "    X = StandardScaler().fit_transform(data)\n",
    "    X_PCA = PCA(n_components=2).fit_transform(X)\n",
    "    df = pd.DataFrame(dict(\n",
    "        PCA_1 = X_PCA[:, 0],  # PCA의 첫 번째 주성분\n",
    "        PCA_2 = X_PCA[:, 1]   # PCA의 두 번째 주성분\n",
    "    ))\n",
    "\n",
    "    # Plotly Express를 사용하여 2D 산점도 시각화\n",
    "    #x축은 PCA의 첫 번째 주성분, y축은 두 번째 주성분\n",
    "\n",
    "    fig = go.Figure(data=go.Scatter(\n",
    "        x=df[\"PCA_1\"],\n",
    "        y=df[\"PCA_2\"],\n",
    "        mode='markers',\n",
    "        marker=dict(size=8, color='blue', opacity=0.6),\n",
    "        hoverinfo='skip'  # 호버 정보 비활성화\n",
    "    ))\n",
    "        # 레이아웃 설정\n",
    "    fig.update_layout(\n",
    "        title=\"PCA 2D Scatter Plot\",\n",
    "        xaxis_title=\"PCA 1\",\n",
    "        yaxis_title=\"PCA 2\",\n",
    "        width=800, height=600\n",
    "    )\n",
    "\n",
    "    # 그래프 표시\n",
    "    if graph_on_off == 'on':\n",
    "        pio.show(fig, config=config)\n",
    "    filename = f\"PCA_graph_{text}.png\"\n",
    "    fig.write_image(filename, scale=3)"
   ]
  },
  {
   "cell_type": "code",
   "execution_count": 31,
   "metadata": {},
   "outputs": [],
   "source": [
    "PCA_test(train_a,'train')"
   ]
  },
  {
   "cell_type": "code",
   "execution_count": null,
   "metadata": {},
   "outputs": [],
   "source": [
    "PCA_test(test_a, 'test')"
   ]
  },
  {
   "cell_type": "code",
   "execution_count": null,
   "metadata": {},
   "outputs": [],
   "source": []
  }
 ],
 "metadata": {
  "kernelspec": {
   "display_name": "pytorch_test",
   "language": "python",
   "name": "python3"
  },
  "language_info": {
   "codemirror_mode": {
    "name": "ipython",
    "version": 3
   },
   "file_extension": ".py",
   "mimetype": "text/x-python",
   "name": "python",
   "nbconvert_exporter": "python",
   "pygments_lexer": "ipython3",
   "version": "3.11.7"
  }
 },
 "nbformat": 4,
 "nbformat_minor": 2
}
