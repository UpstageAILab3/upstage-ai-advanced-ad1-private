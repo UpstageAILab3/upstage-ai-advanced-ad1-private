{
 "cells": [
  {
   "cell_type": "markdown",
   "metadata": {},
   "source": [
    "### 1. Import Library"
   ]
  },
  {
   "cell_type": "code",
   "execution_count": 6,
   "metadata": {},
   "outputs": [],
   "source": [
    "# !pip install -r requirements.txt"
   ]
  },
  {
   "cell_type": "code",
   "execution_count": 7,
   "metadata": {},
   "outputs": [],
   "source": [
    "# 필요한 라이브러리 임포트\n",
    "import numpy as np\n",
    "import pandas as pd\n",
    "import random\n",
    "from pathlib import Path\n",
    "import matplotlib.pyplot as plt\n",
    "import plotly.graph_objs as go"
   ]
  },
  {
   "cell_type": "code",
   "execution_count": 8,
   "metadata": {},
   "outputs": [],
   "source": [
    "# 난수 생성 고정\n",
    "RANDOM_SEED = 42\n",
    "np.random.seed(RANDOM_SEED)\n",
    "random.seed(RANDOM_SEED)"
   ]
  },
  {
   "cell_type": "markdown",
   "metadata": {},
   "source": [
    "### 2. Load Train Data & Test Data"
   ]
  },
  {
   "cell_type": "code",
   "execution_count": 9,
   "metadata": {},
   "outputs": [],
   "source": [
    "# 데이터 경로 설정\n",
    "DATA_PATH = Path(\"./data\")"
   ]
  },
  {
   "cell_type": "code",
   "execution_count": 10,
   "metadata": {},
   "outputs": [],
   "source": [
    "train_data = pd.read_csv(DATA_PATH / \"train.csv\")\n",
    "test_data = pd.read_csv(DATA_PATH / \"test.csv\")"
   ]
  },
  {
   "cell_type": "code",
   "execution_count": 11,
   "metadata": {},
   "outputs": [],
   "source": [
    "# 필요 피처 선택\n",
    "non_numeric_cols = [\"faultNumber\", \"simulationRun\", \"sample\"]\n",
    "use_cols = train_data.columns.difference(non_numeric_cols)\n",
    "\n",
    "X_train = train_data[use_cols]\n",
    "X_test = test_data[use_cols]"
   ]
  },
  {
   "cell_type": "code",
   "execution_count": 12,
   "metadata": {},
   "outputs": [
    {
     "name": "stdout",
     "output_type": "stream",
     "text": [
      "52\n",
      "52\n"
     ]
    }
   ],
   "source": [
    "print(len(X_train.columns))\n",
    "print(len(X_test.columns))"
   ]
  },
  {
   "cell_type": "code",
   "execution_count": 13,
   "metadata": {},
   "outputs": [],
   "source": [
    "# 필요한 라이브러리 임포트 \n",
    "from sklearn.preprocessing import MinMaxScaler, RobustScaler\n",
    "from torch.utils.data import DataLoader, TensorDataset \n",
    "import torch\n",
    "\n",
    "# 데이터 스케일러 인스턴스 생성(데이터 표준화)\n",
    "## 어떤 스케일러를 적용해야하는가?\n",
    "# scaler = MinMaxScaler()\n",
    "scaler = RobustScaler() \n",
    "# 학습 데이터셋에 대해 fit과 transform 수행: train 기준 정보 계산 및 데이터 변환\n",
    "X_train_scaled = scaler.fit_transform(X_train) \n",
    "# 테스트 데이터셋에 대해서는 transform만 수행: 학습 데이터셋의 기준 정보를 사용하여 데이터 변환\n",
    "X_test_scaled = scaler.transform(X_test)  \n",
    "\n",
    "# PyTorch Tensor로 변환 \n",
    "X_train_tensor = torch.FloatTensor(X_train_scaled) \n",
    "X_test_tensor = torch.FloatTensor(X_test_scaled)  \n",
    "\n",
    "# DataLoader 설정 \n",
    "train_dataset = TensorDataset(X_train_tensor, X_train_tensor) # 입력과 타겟이 같음 \n",
    "train_loader = DataLoader(train_dataset, batch_size=256, shuffle=False)\n",
    "\n",
    "test_dataset = TensorDataset(X_test_tensor, X_test_tensor) # 입력과 타겟이 같음 \n",
    "test_loader = DataLoader(test_dataset, batch_size=256, shuffle=False)"
   ]
  },
  {
   "cell_type": "code",
   "execution_count": 14,
   "metadata": {},
   "outputs": [
    {
     "name": "stdout",
     "output_type": "stream",
     "text": [
      "250000\n",
      "710400\n"
     ]
    }
   ],
   "source": [
    "print(len(train_dataset))\n",
    "print(len(test_dataset))"
   ]
  },
  {
   "cell_type": "code",
   "execution_count": 15,
   "metadata": {},
   "outputs": [
    {
     "name": "stdout",
     "output_type": "stream",
     "text": [
      "torch.Size([1, 52])\n"
     ]
    }
   ],
   "source": [
    "test_loader = DataLoader(test_dataset, batch_size=1, shuffle=False)\n",
    "for data in test_loader:\n",
    "    inputs = data[0]\n",
    "    break\n",
    "\n",
    "print(inputs.shape)"
   ]
  },
  {
   "cell_type": "markdown",
   "metadata": {},
   "source": [
    "### 3. Autoencoder 구현"
   ]
  },
  {
   "cell_type": "code",
   "execution_count": 16,
   "metadata": {},
   "outputs": [],
   "source": [
    "import torch.nn as nn\n",
    "\n",
    "class Autoencoder(nn.Module):\n",
    "    def __init__(self):\n",
    "        super(Autoencoder, self).__init__()\n",
    "        # 인코더 구성\n",
    "        ## 적절한 차원의 차수는?\n",
    "        ## trial-1: 52 > 32 > 16\n",
    "        ## trial-2: 52 > 32 > 16 > 8\n",
    "        ## trial-3: 52 > 26 > 13 > 6 > 3\n",
    "        self.encoder = nn.Sequential(\n",
    "            nn.Linear(52, 26), # 입력 차원 52에서 낮은 차수의 중간 차원 32로 압축\n",
    "            nn.ReLU(), # 활성화 함수 ReLU 사용\n",
    "            nn.Linear(26, 13), # 중간 차원 32에서 특징 차원 16으로 더 압축\n",
    "            nn.ReLU(), # 활성화 함수 ReLU 사용\n",
    "            nn.Linear(13, 6), # 중간 차원 32에서 특징 차원 16으로 더 압축\n",
    "            nn.ReLU(), # 활성화 함수 ReLU 사용\n",
    "            nn.Linear(6, 3), # 중간 차원 32에서 특징 차원 16으로 더 압축\n",
    "            nn.ReLU(), # 활성화 함수 ReLU 사용\n",
    "        )\n",
    "        # 디코더 구성\n",
    "        self.decoder = nn.Sequential(\n",
    "            nn.Linear(3, 6), # 중간 차원 32에서 특징 차원 16으로 더 압축\n",
    "            nn.ReLU(), # 활성화 함수 ReLU 사용\n",
    "            nn.Linear(6, 13), # 중간 차원 32에서 특징 차원 16으로 더 압축\n",
    "            nn.ReLU(), # 활성화 함수 ReLU 사용\n",
    "            nn.Linear(13, 26), # 특징 차원 16에서 중간 차원 32으로 확장\n",
    "            nn.ReLU(), # 활성화 함수 ReLU 사용\n",
    "            nn.Linear(26, 52), # 중간 차원 32에서 원본 차원인 55로 복원\n",
    "            nn.Sigmoid() # 출력을 0과 1 사이로 조정\n",
    "        )\n",
    "\n",
    "    def forward(self, x):\n",
    "        x = self.encoder(x) # 인코딩\n",
    "        x = self.decoder(x) # 디코딩\n",
    "        return x"
   ]
  },
  {
   "cell_type": "markdown",
   "metadata": {},
   "source": [
    "### 4. Model Traning"
   ]
  },
  {
   "cell_type": "code",
   "execution_count": 18,
   "metadata": {},
   "outputs": [],
   "source": [
    "model = Autoencoder()\n",
    "criterion = nn.MSELoss() # MSE: Mean Squared Error \n",
    "optimizer = torch.optim.Adam(model.parameters(), lr=1e-3) # Adam optimizer"
   ]
  },
  {
   "cell_type": "code",
   "execution_count": null,
   "metadata": {},
   "outputs": [],
   "source": [
    "for epoch in range(100):\n",
    "    for data in train_loader:\n",
    "        inputs = data[0]\n",
    "        optimizer.zero_grad()\n",
    "        outputs = model(inputs)\n",
    "        loss = criterion(outputs, inputs)\n",
    "        loss.backward()\n",
    "        optimizer.step()\n",
    "        print(f'Epoch {epoch+1}, Loss: {loss.item()}')"
   ]
  },
  {
   "cell_type": "code",
   "execution_count": 19,
   "metadata": {},
   "outputs": [],
   "source": [
    "model_name = \"exp2-4layers\"\n",
    "torch.save(model.state_dict(), f\"./model_{model_name}.pt\")"
   ]
  },
  {
   "cell_type": "markdown",
   "metadata": {},
   "source": [
    "### 5. Model Inference"
   ]
  },
  {
   "cell_type": "code",
   "execution_count": 20,
   "metadata": {},
   "outputs": [
    {
     "name": "stderr",
     "output_type": "stream",
     "text": [
      "/tmp/ipykernel_666615/2834326068.py:1: FutureWarning: You are using `torch.load` with `weights_only=False` (the current default value), which uses the default pickle module implicitly. It is possible to construct malicious pickle data which will execute arbitrary code during unpickling (See https://github.com/pytorch/pytorch/blob/main/SECURITY.md#untrusted-models for more details). In a future release, the default value for `weights_only` will be flipped to `True`. This limits the functions that could be executed during unpickling. Arbitrary objects will no longer be allowed to be loaded via this mode unless they are explicitly allowlisted by the user via `torch.serialization.add_safe_globals`. We recommend you start setting `weights_only=True` for any use case where you don't have full control of the loaded file. Please open an issue on GitHub for any issues related to this experimental feature.\n",
      "  model.load_state_dict(torch.load(\"model_exp2-4layers.pt\"))\n"
     ]
    },
    {
     "data": {
      "text/plain": [
       "<All keys matched successfully>"
      ]
     },
     "execution_count": 20,
     "metadata": {},
     "output_type": "execute_result"
    }
   ],
   "source": [
    "model.load_state_dict(torch.load(\"model_exp2-4layers.pt\"))"
   ]
  },
  {
   "cell_type": "code",
   "execution_count": 21,
   "metadata": {},
   "outputs": [],
   "source": [
    "model.eval()\n",
    "\n",
    "batch_size = len(train_dataset)\n",
    "infer_train_loader = DataLoader(train_dataset, batch_size=batch_size, shuffle=False)\n",
    "\n",
    "with torch.no_grad():\n",
    "    for data in infer_train_loader:\n",
    "        inputs = data[0]\n",
    "        outputs = model(inputs)"
   ]
  },
  {
   "cell_type": "code",
   "execution_count": 22,
   "metadata": {},
   "outputs": [
    {
     "name": "stdout",
     "output_type": "stream",
     "text": [
      "tensor([0.3209, 0.4317, 0.4800,  ..., 0.5739, 0.8435, 0.8981])\n",
      "<class 'pandas.core.frame.DataFrame'>\n",
      "(250000, 1)\n",
      "<class 'float'>\n",
      "2.6863744258880615\n"
     ]
    }
   ],
   "source": [
    " # reconstruction error 계산 \n",
    "train_reconstruction_errors = torch.mean((outputs - inputs) ** 2, axis=1)  #MSE\n",
    "print(train_reconstruction_errors)\n",
    "\n",
    "df_train_reconstruction_errors = pd.DataFrame(train_reconstruction_errors.detach().numpy(), columns=[\"error\"])\n",
    "print(type(df_train_reconstruction_errors))\n",
    "print(df_train_reconstruction_errors.shape)\n",
    "\n",
    "max_error = df_train_reconstruction_errors[\"error\"].max()\n",
    "print(type(max_error))\n",
    "print(max_error)"
   ]
  },
  {
   "cell_type": "code",
   "execution_count": 23,
   "metadata": {},
   "outputs": [
    {
     "data": {
      "text/html": [
       "<div>\n",
       "<style scoped>\n",
       "    .dataframe tbody tr th:only-of-type {\n",
       "        vertical-align: middle;\n",
       "    }\n",
       "\n",
       "    .dataframe tbody tr th {\n",
       "        vertical-align: top;\n",
       "    }\n",
       "\n",
       "    .dataframe thead th {\n",
       "        text-align: right;\n",
       "    }\n",
       "</style>\n",
       "<table border=\"1\" class=\"dataframe\">\n",
       "  <thead>\n",
       "    <tr style=\"text-align: right;\">\n",
       "      <th></th>\n",
       "      <th>error</th>\n",
       "    </tr>\n",
       "  </thead>\n",
       "  <tbody>\n",
       "    <tr>\n",
       "      <th>count</th>\n",
       "      <td>250000.000000</td>\n",
       "    </tr>\n",
       "    <tr>\n",
       "      <th>mean</th>\n",
       "      <td>0.805823</td>\n",
       "    </tr>\n",
       "    <tr>\n",
       "      <th>std</th>\n",
       "      <td>0.220618</td>\n",
       "    </tr>\n",
       "    <tr>\n",
       "      <th>min</th>\n",
       "      <td>0.213303</td>\n",
       "    </tr>\n",
       "    <tr>\n",
       "      <th>25%</th>\n",
       "      <td>0.650729</td>\n",
       "    </tr>\n",
       "    <tr>\n",
       "      <th>50%</th>\n",
       "      <td>0.775014</td>\n",
       "    </tr>\n",
       "    <tr>\n",
       "      <th>75%</th>\n",
       "      <td>0.926082</td>\n",
       "    </tr>\n",
       "    <tr>\n",
       "      <th>max</th>\n",
       "      <td>2.686374</td>\n",
       "    </tr>\n",
       "  </tbody>\n",
       "</table>\n",
       "</div>"
      ],
      "text/plain": [
       "               error\n",
       "count  250000.000000\n",
       "mean        0.805823\n",
       "std         0.220618\n",
       "min         0.213303\n",
       "25%         0.650729\n",
       "50%         0.775014\n",
       "75%         0.926082\n",
       "max         2.686374"
      ]
     },
     "execution_count": 23,
     "metadata": {},
     "output_type": "execute_result"
    }
   ],
   "source": [
    "df_train_reconstruction_errors.describe()"
   ]
  },
  {
   "cell_type": "code",
   "execution_count": 24,
   "metadata": {},
   "outputs": [
    {
     "data": {
      "text/plain": [
       "tensor([0.3209, 0.4317, 0.4800,  ..., 0.5739, 0.8435, 0.8981])"
      ]
     },
     "execution_count": 24,
     "metadata": {},
     "output_type": "execute_result"
    }
   ],
   "source": [
    "train_reconstruction_errors"
   ]
  },
  {
   "cell_type": "code",
   "execution_count": 27,
   "metadata": {},
   "outputs": [
    {
     "data": {
      "image/png": "[encoded data removed]",
      "text/plain": [
       "<Figure size 640x480 with 1 Axes>"
      ]
     },
     "metadata": {},
     "output_type": "display_data"
    }
   ],
   "source": [
    "# reconstruction error 히스토그램 시각화 \n",
    "plt.hist(train_reconstruction_errors.detach().numpy(), bins=10) \n",
    "plt.xlabel('Reconstruction Error') \n",
    "plt.ylabel('Frequency') \n",
    "plt.title('Reconstruction Error Distribution (Train)')\n",
    "\n",
    "plt.show()"
   ]
  },
  {
   "cell_type": "code",
   "execution_count": 26,
   "metadata": {},
   "outputs": [],
   "source": [
    "model.eval()\n",
    "\n",
    "batch_size = len(test_dataset)\n",
    "infer_test_loader = DataLoader(test_dataset, batch_size=batch_size, shuffle=False)\n",
    "\n",
    "with torch.no_grad():\n",
    "    for data in infer_test_loader:\n",
    "        inputs = data[0]\n",
    "        outputs = model(inputs)"
   ]
  },
  {
   "cell_type": "code",
   "execution_count": 28,
   "metadata": {},
   "outputs": [
    {
     "name": "stdout",
     "output_type": "stream",
     "text": [
      "tensor([3.2515e-01, 4.4277e-01, 6.4880e-01,  ..., 4.6904e+02, 4.7019e+02,\n",
      "        4.7019e+02])\n",
      "<class 'pandas.core.frame.DataFrame'>\n",
      "(710400, 1)\n"
     ]
    }
   ],
   "source": [
    "# reconstruction error 계산 \n",
    "test_reconstruction_errors = torch.mean((outputs - inputs) ** 2, axis=1)  #MSE\n",
    "print(test_reconstruction_errors)\n",
    "\n",
    "df_test_reconstruction_errors = pd.DataFrame(test_reconstruction_errors.detach().numpy(), columns=[\"error\"])\n",
    "print(type(df_test_reconstruction_errors))\n",
    "print(df_test_reconstruction_errors.shape)"
   ]
  },
  {
   "cell_type": "code",
   "execution_count": 29,
   "metadata": {},
   "outputs": [
    {
     "data": {
      "text/html": [
       "<div>\n",
       "<style scoped>\n",
       "    .dataframe tbody tr th:only-of-type {\n",
       "        vertical-align: middle;\n",
       "    }\n",
       "\n",
       "    .dataframe tbody tr th {\n",
       "        vertical-align: top;\n",
       "    }\n",
       "\n",
       "    .dataframe thead th {\n",
       "        text-align: right;\n",
       "    }\n",
       "</style>\n",
       "<table border=\"1\" class=\"dataframe\">\n",
       "  <thead>\n",
       "    <tr style=\"text-align: right;\">\n",
       "      <th></th>\n",
       "      <th>error</th>\n",
       "    </tr>\n",
       "  </thead>\n",
       "  <tbody>\n",
       "    <tr>\n",
       "      <th>count</th>\n",
       "      <td>710400.000000</td>\n",
       "    </tr>\n",
       "    <tr>\n",
       "      <th>mean</th>\n",
       "      <td>14.244827</td>\n",
       "    </tr>\n",
       "    <tr>\n",
       "      <th>std</th>\n",
       "      <td>71.843918</td>\n",
       "    </tr>\n",
       "    <tr>\n",
       "      <th>min</th>\n",
       "      <td>0.232024</td>\n",
       "    </tr>\n",
       "    <tr>\n",
       "      <th>25%</th>\n",
       "      <td>0.689279</td>\n",
       "    </tr>\n",
       "    <tr>\n",
       "      <th>50%</th>\n",
       "      <td>0.845805</td>\n",
       "    </tr>\n",
       "    <tr>\n",
       "      <th>75%</th>\n",
       "      <td>1.134598</td>\n",
       "    </tr>\n",
       "    <tr>\n",
       "      <th>max</th>\n",
       "      <td>658.855042</td>\n",
       "    </tr>\n",
       "  </tbody>\n",
       "</table>\n",
       "</div>"
      ],
      "text/plain": [
       "               error\n",
       "count  710400.000000\n",
       "mean       14.244827\n",
       "std        71.843918\n",
       "min         0.232024\n",
       "25%         0.689279\n",
       "50%         0.845805\n",
       "75%         1.134598\n",
       "max       658.855042"
      ]
     },
     "execution_count": 29,
     "metadata": {},
     "output_type": "execute_result"
    }
   ],
   "source": [
    "df_test_reconstruction_errors.describe()"
   ]
  },
  {
   "cell_type": "code",
   "execution_count": 31,
   "metadata": {},
   "outputs": [
    {
     "data": {
      "image/png": "[encoded data removed]",
      "text/plain": [
       "<Figure size 640x480 with 1 Axes>"
      ]
     },
     "metadata": {},
     "output_type": "display_data"
    }
   ],
   "source": [
    "# reconstruction error 히스토그램 시각화 \n",
    "plt.hist(test_reconstruction_errors.detach().numpy(), bins=10) \n",
    "plt.xlabel('Reconstruction Error') \n",
    "plt.ylabel('Frequency') \n",
    "plt.title('Reconstruction Error Distribution (Test)')\n",
    "\n",
    "plt.show()"
   ]
  },
  {
   "cell_type": "code",
   "execution_count": 38,
   "metadata": {},
   "outputs": [
    {
     "data": {
      "image/png": "[encoded data removed]",
      "text/plain": [
       "<Figure size 640x480 with 1 Axes>"
      ]
     },
     "metadata": {},
     "output_type": "display_data"
    }
   ],
   "source": [
    "# reconstruction error 히스토그램 시각화\n",
    "plt.hist(train_reconstruction_errors.detach().numpy(), alpha=0.25, label=\"train\", bins=10)\n",
    "plt.hist(test_reconstruction_errors.detach().numpy(), alpha=0.25, label=\"test\", bins=10)\n",
    "plt.xlim((0, 3))\n",
    "plt.ylim((0, 120000))\n",
    "plt.xlabel('Reconstruction Error') \n",
    "plt.ylabel('Frequency') \n",
    "plt.title('Reconstruction Error Distribution')\n",
    "plt.legend()\n",
    "\n",
    "plt.show()"
   ]
  },
  {
   "cell_type": "code",
   "execution_count": 42,
   "metadata": {},
   "outputs": [],
   "source": [
    "# threshold = max_error + max_error * 0.1"
   ]
  },
  {
   "cell_type": "code",
   "execution_count": 43,
   "metadata": {},
   "outputs": [],
   "source": [
    "# threshold = np.mean(df_train_reconstruction_errors[\"error\"]) + np.std(df_train_reconstruction_errors[\"error\"])"
   ]
  },
  {
   "cell_type": "code",
   "execution_count": 44,
   "metadata": {},
   "outputs": [
    {
     "name": "stdout",
     "output_type": "stream",
     "text": [
      "threshold:  0.8830099254846573\n"
     ]
    }
   ],
   "source": [
    "threshold = np.mean(df_train_reconstruction_errors[\"error\"]) + 3 * np.std(df_train_reconstruction_errors[\"error\"])\n",
    "print(\"threshold: \", threshold)"
   ]
  },
  {
   "cell_type": "code",
   "execution_count": 45,
   "metadata": {},
   "outputs": [],
   "source": [
    "df = df_test_reconstruction_errors.copy()\n",
    "\n",
    "df[\"faultNumber\"] = 0\n",
    "df.loc[df[\"error\"] > threshold, \"faultNumber\"] = 1\n",
    "\n",
    "df_output = df.drop(\"error\", axis=1)"
   ]
  },
  {
   "cell_type": "code",
   "execution_count": 46,
   "metadata": {},
   "outputs": [
    {
     "data": {
      "text/plain": [
       "faultNumber\n",
       "0              579155\n",
       "1              131245\n",
       "Name: count, dtype: int64"
      ]
     },
     "execution_count": 46,
     "metadata": {},
     "output_type": "execute_result"
    }
   ],
   "source": [
    "df_output.value_counts()"
   ]
  },
  {
   "cell_type": "code",
   "execution_count": 47,
   "metadata": {},
   "outputs": [],
   "source": [
    "from datetime import datetime\n",
    "\n",
    "# CSV 파일로 저장\n",
    "current_time = datetime.now().strftime(\"%Y%m%d_%H%M%S\")\n",
    "filename = f\"output_{current_time}.csv\"\n",
    "df_output.to_csv(filename)"
   ]
  },
  {
   "cell_type": "markdown",
   "metadata": {},
   "source": [
    "##### 기록\n",
    "1) input_dims=52, num_layers=2, hidden_dims=[32, 16], train_batch_size=64, epoch=20\n",
    "    - threshold = max_error + max_error (0.016887)\n",
    "        - 0.6614 (F1 Score)\n",
    "        - 0.8359 (Accuracy)\n",
    "2) input_dims=52, num_layers=2, hidden_dims=[32, 16], train_batch_size=64, epoch=20\n",
    "    - threshold = max_error + max_error * 0.1 (0.016769 + (0.016769) * 0.1)\n",
    "        - 0.6665\n",
    "        - 0.7846\n",
    "3) input_dims=52, num_layers=3, hidden_dims=[32, 16, 8], train_batch_size=64, epoch=20\n",
    "    - threshold = max_error + max_error * 0.2 (0.017843 + (0.017843) * 0.2)\n",
    "        - 0.6626\n",
    "        - 0.7822\n",
    "4) input_dims=52, num_layers=3, hidden_dims=[32, 16, 8], train_batch_size=64, epoch=20\n",
    "    - threshold = np.mean(df_train_reconstruction_errors[\"error\"]) + np.std(df_train_reconstruction_errors[\"error\"]) (0.008588183671236038)\n",
    "5) input_dims=52, num_layers=3, hidden_dims=[32, 16, 8], train_batch_size=128, epoch=20\n",
    "    - threshold = np.mean(df_train_reconstruction_errors[\"error\"]) + np.std(df_train_reconstruction_errors[\"error\"]) (0.01129639009013772)\n",
    "        - 0.6689\n",
    "        - 0.7897\n",
    "6) input_dims=52, num_layers=3, hidden_dims=[32, 16, 8], train_batch_size=256, epoch=20\n",
    "    - threshold = np.mean(df_train_reconstruction_errors[\"error\"]) + np.std(df_train_reconstruction_errors[\"error\"]) (0.5062470883131027)\n",
    "7) input_dims=52, num_layers=3, hidden_dims=[32, 16, 8], train_batch_size=256, epoch=100\n",
    "    - threshold = np.mean(df_train_reconstruction_errors[\"error\"]) + 3 * np.std(df_train_reconstruction_errors[\"error\"]) (0.7653539180755615)\n",
    "        - 0.6969\n",
    "        - 0.8448\n",
    "8) input_dims=52, num_layers=4, hidden_dims=[26, 13, 6, 3], train_batch_size=256, epoch=100\n",
    "    - threshold = np.mean(df_train_reconstruction_errors[\"error\"]) + 3 * np.std(df_train_reconstruction_errors[\"error\"]) (0.8830099254846573)\n"
   ]
  },
  {
   "cell_type": "markdown",
   "metadata": {},
   "source": []
  }
 ],
 "metadata": {
  "kernelspec": {
   "display_name": "Python 3",
   "language": "python",
   "name": "python3"
  },
  "language_info": {
   "codemirror_mode": {
    "name": "ipython",
    "version": 3
   },
   "file_extension": ".py",
   "mimetype": "text/x-python",
   "name": "python",
   "nbconvert_exporter": "python",
   "pygments_lexer": "ipython3",
   "version": "3.10.15"
  }
 },
 "nbformat": 4,
 "nbformat_minor": 2
}
