{
 "cells": [
  {
   "cell_type": "code",
   "execution_count": 2,
   "metadata": {},
   "outputs": [],
   "source": [
    "import matplotlib.pyplot as plt\n",
    "import numpy as np\n",
    "import torch\n",
    "\n",
    "from torchvision.datasets.mnist import MNIST\n",
    "from torchvision.transforms import ToTensor"
   ]
  },
  {
   "cell_type": "code",
   "execution_count": 4,
   "metadata": {},
   "outputs": [],
   "source": [
    "# 가우스 노이즈를 더하는 함수\n",
    "def gaussian_noise(x, scale=0.8):\n",
    "    # 가우스 노이즈를 더해줌\n",
    "    gaussian_data_x = x + np.random.normal(\n",
    "        loc=0,\n",
    "        scale=scale,\n",
    "        size=x.shape\n",
    "    )\n",
    "\n",
    "    # 이미지의 픽셀값을 0과 1 사이로 정규화\n",
    "    gaussian_data_x = np.clip(gaussian_data_x, 0, 1)\n",
    "\n",
    "    gaussian_data_x = torch.tensor(gaussian_data_x)\n",
    "    gaussian_data_x = gaussian_data_x.type(torch.FloatTensor)\n",
    "\n",
    "    return gaussian_data_x"
   ]
  },
  {
   "cell_type": "code",
   "execution_count": 5,
   "metadata": {},
   "outputs": [
    {
     "name": "stderr",
     "output_type": "stream",
     "text": [
      "/tmp/ipykernel_533609/177772013.py:13: UserWarning: To copy construct from a tensor, it is recommended to use sourceTensor.clone().detach() or sourceTensor.clone().detach().requires_grad_(True), rather than torch.tensor(sourceTensor).\n",
      "  gaussian_data_x = torch.tensor(gaussian_data_x)\n"
     ]
    },
    {
     "data": {
      "text/plain": [
       "<matplotlib.image.AxesImage at 0x7fce0f1ad4e0>"
      ]
     },
     "execution_count": 5,
     "metadata": {},
     "output_type": "execute_result"
    },
    {
     "data": {
      "image/png": "[encoded data removed]",
      "text/plain": [
       "<Figure size 640x480 with 2 Axes>"
      ]
     },
     "metadata": {},
     "output_type": "display_data"
    }
   ],
   "source": [
    "# 학습용 데이터 정의\n",
    "traning_data = MNIST(\n",
    "    root=\"./\",\n",
    "    train=True,\n",
    "    download=True,\n",
    "    transform=ToTensor()\n",
    ")\n",
    "\n",
    "# 평가용 데이터 정의\n",
    "test_data = MNIST(\n",
    "    root = \"./\",\n",
    "    train=False,\n",
    "    download=True,\n",
    "    transform=ToTensor()\n",
    ")\n",
    "\n",
    "# 첫 번째 원본 이미지\n",
    "img = traning_data.data[0]\n",
    "# 노이즈가 섞인 이미지로 변환\n",
    "img_gaussian = gaussian_noise(img)\n",
    "\n",
    "# 두 이미지 출력\n",
    "plt.subplot(1, 2, 1)\n",
    "plt.title(\"original\")\n",
    "plt.imshow(img)\n",
    "plt.subplot(1, 2, 2)\n",
    "plt.title(\"nosiy\")\n",
    "plt.imshow(img_gaussian)"
   ]
  },
  {
   "cell_type": "code",
   "execution_count": null,
   "metadata": {},
   "outputs": [],
   "source": [
    "from torch.utils.data.dataset import Dataset\n",
    "\n",
    "class Denoising(Dataset):\n",
    "    def __init__(self):\n",
    "        # 원본 이미지를 담고 있는 MINST 데이터\n",
    "        self.mnist = MNIST(\n",
    "            root=\"./\",\n",
    "            train=True,\n",
    "            download=True,\n",
    "            transform=ToTensor()\n",
    "        )\n",
    "\n",
    "        self.data = []\n",
    "        # 노이즈 입히기\n",
    "        for i in range(len(self.mnist)):\n",
    "            noisy_input = gaussian_noise(self.mnist.data[1])\n",
    "            input_tensor = torch.tensor(noisy_input)\n",
    "            self.data.append(torch.unsqueeze(input_tensor, dim=0))\n",
    "\n",
    "    def __len__(self):\n",
    "        return len(self.data)\n",
    "    \n",
    "    def __getitem__(self, i):\n",
    "        data = self.data[i]\n",
    "\n",
    "        # 원본 이미지도 0과 1사이로 값을 맞춰줌 (최대-최소 정규화 적용)\n",
    "        label = self.mnist.data[i]/255\n",
    "\n",
    "        return data, label\n"
   ]
  }
 ],
 "metadata": {
  "kernelspec": {
   "display_name": "Python 3",
   "language": "python",
   "name": "python3"
  },
  "language_info": {
   "codemirror_mode": {
    "name": "ipython",
    "version": 3
   },
   "file_extension": ".py",
   "mimetype": "text/x-python",
   "name": "python",
   "nbconvert_exporter": "python",
   "pygments_lexer": "ipython3",
   "version": "3.10.15"
  }
 },
 "nbformat": 4,
 "nbformat_minor": 2
}
