{
 "cells": [
  {
   "cell_type": "markdown",
   "metadata": {},
   "source": [
    "### 1. Import Library"
   ]
  },
  {
   "cell_type": "code",
   "execution_count": 1,
   "metadata": {},
   "outputs": [],
   "source": [
    "# !pip install -r requirements.txt"
   ]
  },
  {
   "cell_type": "code",
   "execution_count": 1,
   "metadata": {},
   "outputs": [
    {
     "name": "stderr",
     "output_type": "stream",
     "text": [
      "/data/ephemeral/home/.conda/lib/python3.10/site-packages/tqdm/auto.py:21: TqdmWarning: IProgress not found. Please update jupyter and ipywidgets. See https://ipywidgets.readthedocs.io/en/stable/user_install.html\n",
      "  from .autonotebook import tqdm as notebook_tqdm\n"
     ]
    }
   ],
   "source": [
    "# 필요한 라이브러리 임포트\n",
    "import os\n",
    "from pathlib import Path\n",
    "\n",
    "import matplotlib.pyplot as plt\n",
    "import numpy as np\n",
    "import optuna\n",
    "import pandas as pd\n",
    "import plotly.graph_objs as go\n",
    "import random\n",
    "import torch\n",
    "import torch.nn as nn\n",
    "import torch.optim as optim\n",
    "from torch.utils.data import DataLoader, TensorDataset\n",
    "from sklearn.preprocessing import MinMaxScaler\n",
    "from scipy.stats import spearmanr"
   ]
  },
  {
   "cell_type": "code",
   "execution_count": 2,
   "metadata": {},
   "outputs": [],
   "source": [
    "# 난수 생성 고정\n",
    "RANDOM_SEED = 42\n",
    "np.random.seed(RANDOM_SEED)\n",
    "random.seed(RANDOM_SEED)"
   ]
  },
  {
   "cell_type": "markdown",
   "metadata": {},
   "source": [
    "### 2. Load Train Data & Test Data"
   ]
  },
  {
   "cell_type": "code",
   "execution_count": 14,
   "metadata": {},
   "outputs": [],
   "source": [
    "# 데이터 경로 설정\n",
    "DATA_PATH = Path(\"./data\")"
   ]
  },
  {
   "cell_type": "code",
   "execution_count": 15,
   "metadata": {},
   "outputs": [],
   "source": [
    "train_data = pd.read_csv(DATA_PATH / \"train.csv\")\n",
    "test_data = pd.read_csv(DATA_PATH / \"test.csv\")"
   ]
  },
  {
   "cell_type": "markdown",
   "metadata": {},
   "source": [
    "#### 피처 선택 필요"
   ]
  },
  {
   "cell_type": "code",
   "execution_count": 16,
   "metadata": {},
   "outputs": [],
   "source": [
    "# 수치형 피처 선택 (베이스라인)\n",
    "non_numeric_cols = [\"faultNumber\", \"simulationRun\", \"sample\"]\n",
    "use_cols = train_data.columns.difference(non_numeric_cols)\n",
    "\n",
    "X_train = train_data[use_cols]\n",
    "X_test = test_data[use_cols]"
   ]
  },
  {
   "cell_type": "code",
   "execution_count": 21,
   "metadata": {},
   "outputs": [
    {
     "name": "stdout",
     "output_type": "stream",
     "text": [
      "Unique features from top 10 correlations:\n",
      "['xmv_8', 'xmv_11', 'xmv_7', 'xmeas_15', 'xmeas_7', 'xmeas_17', 'xmv_3', 'xmeas_1', 'xmeas_12', 'xmeas_13']\n"
     ]
    }
   ],
   "source": [
    "# 주요 피처 도출 및 선택\n",
    "# 피어슨 상관계수 계산\n",
    "correlation_matrix = X_train.corr(method='pearson')\n",
    "\n",
    "# 상관계수를 절대값으로 변환하고 상위 10개 출력\n",
    "abs_corr = correlation_matrix.abs().unstack().sort_values(ascending=False)\n",
    "\n",
    "# 대각선 요소(자기 자신과의 상관관계)를 제거\n",
    "abs_corr = abs_corr[abs_corr < 1]\n",
    "\n",
    "# 상위 10개 상관관계 도출\n",
    "top_10_corr = abs_corr.head(10)\n",
    "\n",
    "# 상위 10개 상관관계 피처 선택\n",
    "selected_features = set()\n",
    "for index in top_10_corr.index:\n",
    "    selected_features.update(index)\n",
    "\n",
    "selected_feature_list = list(selected_features)\n",
    "print(\"Unique features from top 10 correlations:\")\n",
    "print(selected_feature_list)\n",
    "\n",
    "X_train = train_data[selected_feature_list]\n",
    "X_test = test_data[selected_feature_list]"
   ]
  },
  {
   "cell_type": "code",
   "execution_count": 24,
   "metadata": {},
   "outputs": [
    {
     "name": "stdout",
     "output_type": "stream",
     "text": [
      "10\n",
      "10\n"
     ]
    }
   ],
   "source": [
    "print(len(X_train.columns))\n",
    "print(len(X_test.columns))"
   ]
  },
  {
   "cell_type": "code",
   "execution_count": 8,
   "metadata": {},
   "outputs": [],
   "source": [
    "# 데이터 스케일러 인스턴스 생성(데이터 표준화)\n",
    "## 어떤 스케일러를 적용해야하는가?\n",
    "scaler = MinMaxScaler() \n",
    "# 학습 데이터셋에 대해 fit과 transform 수행: train 기준 정보 계산 및 데이터 변환\n",
    "X_train_scaled = scaler.fit_transform(X_train) \n",
    "# 테스트 데이터셋에 대해서는 transform만 수행: 학습 데이터셋의 기준 정보를 사용하여 데이터 변환\n",
    "X_test_scaled = scaler.transform(X_test)  \n",
    "\n",
    "# PyTorch Tensor로 변환 \n",
    "X_train_tensor = torch.FloatTensor(X_train_scaled) \n",
    "X_test_tensor = torch.FloatTensor(X_test_scaled)"
   ]
  },
  {
   "cell_type": "code",
   "execution_count": 9,
   "metadata": {},
   "outputs": [],
   "source": [
    "# GPU 설정\n",
    "device = torch.device('cuda' if torch.cuda.is_available() else 'cpu')"
   ]
  },
  {
   "cell_type": "markdown",
   "metadata": {},
   "source": [
    "### 3. Autoencoder 구현"
   ]
  },
  {
   "cell_type": "code",
   "execution_count": 10,
   "metadata": {},
   "outputs": [],
   "source": [
    "# 오토인코더 정의\n",
    "class Autoencoder(nn.Module):\n",
    "    def __init__(self, input_dim, hidden_dims):\n",
    "        super(Autoencoder, self).__init__()\n",
    "        layers = []\n",
    "        # 인코더 레이어 추가\n",
    "        in_dim = input_dim\n",
    "        for hidden_dim in hidden_dims:\n",
    "            layers.append(nn.Linear(in_dim, hidden_dim))\n",
    "            layers.append(nn.ReLU())\n",
    "            in_dim = hidden_dim\n",
    "        \n",
    "        self.encoder = nn.Sequential(*layers)  # 인코더 레이어\n",
    "        self.decoder = nn.Sequential(\n",
    "            nn.Linear(hidden_dims[-1], input_dim),  # 마지막 인코더 레이어의 출력 크기와 같아야 함\n",
    "            nn.Sigmoid()\n",
    "        )\n",
    "    \n",
    "    def forward(self, x):\n",
    "        encoded = self.encoder(x)\n",
    "        decoded = self.decoder(encoded)\n",
    "        return decoded\n",
    "\n",
    "# 손실 함수 정의\n",
    "def loss_function(recon_x, x):\n",
    "    return nn.MSELoss()(recon_x, x)  # 재구성 손실"
   ]
  },
  {
   "cell_type": "code",
   "execution_count": 11,
   "metadata": {},
   "outputs": [],
   "source": [
    "# 체크포인트 저장 함수\n",
    "def save_checkpoint(model, optimizer, trial, file_path, num_layers, hidden_dims, recon_error):\n",
    "    checkpoint = {\n",
    "        'model_state_dict': model.state_dict(),\n",
    "        'optimizer_state_dict': optimizer.state_dict(),\n",
    "        'trial_number': trial.number,\n",
    "        'num_layers': num_layers,\n",
    "        'hidden_dims': hidden_dims,\n",
    "        'recon_error': recon_error\n",
    "    }\n",
    "    \n",
    "    # print(f\"Saved checkpoint to {file_path}\")\n",
    "    torch.save(checkpoint, file_path)"
   ]
  },
  {
   "cell_type": "markdown",
   "metadata": {},
   "source": [
    "### 4. Autoencoder Hyperparameter Tunning (Optuna 설정)"
   ]
  },
  {
   "cell_type": "code",
   "execution_count": null,
   "metadata": {},
   "outputs": [],
   "source": [
    "# 목적 함수 정의 (Optuna 최적화 대상)\n",
    "def objective(trial):\n",
    "    # 하이퍼파라미터 샘플링\n",
    "    # num_layers = trial.suggest_int('num_layers', 1, 3)  # 레이어 수를 1에서 3까지 샘플링\n",
    "    # hidden_dims = [trial.suggest_int(f'hidden_dim_{i}', 8, 32) for i in range(num_layers)]  # 각 레이어의 노드 수 샘플링\n",
    "    # learning_rate = trial.suggest_loguniform('learning_rate', 1e-5, 1e-2)  # learning_rate 샘플링\n",
    "    num_layers = trial.suggest_categorical('num_layers', [1, 2, 3])  # num_layers는 1, 2, 3만 선택\n",
    "    hidden_dims = [trial.suggest_categorical(f'hidden_dim_{i}', [8, 16, 32]) for i in range(num_layers)]  # 각 레이어의 노드 수는 8, 16, 32 중 선택\n",
    "    # learning_rate = trial.suggest_loguniform('learning_rate', 1e-5, 1e-2)  # learning_rate 샘플링\n",
    "    \n",
    "    # 데이터 로드\n",
    "    input_dim = X_train_tensor.shape[1]\n",
    "    \n",
    "    # 학습 데이터만 사용하여 학습 (정상 데이터)\n",
    "    train_loader = DataLoader(TensorDataset(X_train_tensor), batch_size=64, shuffle=True)\n",
    "\n",
    "    # 모델 초기화\n",
    "    model = Autoencoder(input_dim=input_dim, hidden_dims=hidden_dims).to(device)\n",
    "    optimizer = optim.Adam(model.parameters(), lr=1e-3)\n",
    "\n",
    "    # 체크포인트 저장 경로 지정\n",
    "    checkpoint_dir = 'checkpoints'\n",
    "    os.makedirs(checkpoint_dir, exist_ok=True)\n",
    "\n",
    "    # 학습 과정\n",
    "    model.train()\n",
    "    num_epochs = 10\n",
    "    best_recon_error = float('inf')  # 초기 최저 재구성 오차를 무한대로 설정\n",
    "\n",
    "    for epoch in range(num_epochs):\n",
    "        total_loss = 0\n",
    "        for data in train_loader:\n",
    "            batch_data = data[0].to(device)\n",
    "            optimizer.zero_grad()\n",
    "            output = model(batch_data)\n",
    "            loss = loss_function(output, batch_data)\n",
    "            loss.backward()\n",
    "            optimizer.step()\n",
    "            total_loss += loss.item()\n",
    "        \n",
    "        # 재구성 오차를 사용하여 모델 평가\n",
    "        recon_errors = []\n",
    "        model.eval()\n",
    "        with torch.no_grad():\n",
    "            for data in X_train_tensor:\n",
    "                data = data.unsqueeze(0).to(device)  # 배치 형태로 변경\n",
    "                recon = model(data)\n",
    "                error = torch.mean((recon - data) ** 2).item()  # MSE 계산\n",
    "                recon_errors.append(error)\n",
    "\n",
    "        current_recon_error = torch.tensor(recon_errors).mean().item()  # 평균 재구성 오차 계산\n",
    "        print(f\"Epoch [{epoch+1}/{num_epochs}], Reconstruction Error: {current_recon_error:.4f}\")\n",
    "\n",
    "        # 에포크마다 체크포인트 저장\n",
    "        checkpoint_path = os.path.join(checkpoint_dir, f'checkpoint_epoch_{epoch+1}_trial_{trial.number}.pt')\n",
    "        save_checkpoint(model, optimizer, trial, checkpoint_path, num_layers, hidden_dims, current_recon_error)\n",
    "\n",
    "        # Best checkpoint 저장\n",
    "        # 성능 개선 체크\n",
    "        if current_recon_error < best_recon_error:\n",
    "            best_recon_error = current_recon_error\n",
    "\n",
    "            best_checkpoint_path = os.path.join(checkpoint_dir, f'best_checkpoint_trial_{trial.number}.pt')\n",
    "            save_checkpoint(model, optimizer, trial, best_checkpoint_path, num_layers, hidden_dims, best_recon_error)\n",
    "\n",
    "    # 최종 재구성 오차의 평균을 반환 (최소화할 목표)\n",
    "    return best_recon_error  # 평균 재구성 오차\n",
    "\n",
    "# Optuna 스터디 실행\n",
    "study = optuna.create_study(direction='minimize')\n",
    "study.optimize(objective, n_trials=50)  # 50 정도로 충분"
   ]
  },
  {
   "cell_type": "markdown",
   "metadata": {},
   "source": [
    "> 가능한 하이퍼파라미터 조합 계산 (적절한 n_trials 수 찾기)\n",
    "1.\tnum_layers: 3가지 선택 가능 (1, 2, 3)\n",
    "2.\t각 **num_layers**에 대해 **hidden_dims**는 고정된 8, 16, 32 중에서 선택되므로:\n",
    "\t- num_layers=1일 때: hidden_dims는 3가지 선택 (8, 16, 32)\n",
    "\t- num_layers=2일 때: hidden_dims는 (8, 16, 32) 각각 2개씩 선택 → 3^2 = 9가지 선택\n",
    "\t- num_layers=3일 때: hidden_dims는 (8, 16, 32) 각각 3개씩 선택 → 3^3 = 27가지 선택\n",
    "\n",
    "- 따라서, 총 가능한 조합의 수는:\n",
    "$ 3 \\times (3^1 + 3^2 + 3^3) = 3 \\times (3 + 9 + 27) = 3 \\times 39 = 117 $\n",
    "\n",
    "- Optuna의 n_trials를 너무 크게 설정하면 불필요한 반복이 발생할 수 있습니다. \n",
    "- 실제로는 117개의 고유한 하이퍼파라미터 조합만 가능하므로, n_trials 값을 작게 설정할 수 있습니다.\n",
    "- n_trials를 117 정도로 설정하는 것이 적절하지만, 일부 조합이 더 빠르게 수렴할 수 있으므로, 아래처럼 적당히 설정하는 것이 좋습니다.\n",
    "\n",
    "```\n",
    "# Optuna 스터디 실행\n",
    "study = optuna.create_study(direction='minimize')\n",
    "study.optimize(objective, n_trials=50)  # 50 정도로 충분\n",
    "```"
   ]
  },
  {
   "cell_type": "code",
   "execution_count": 13,
   "metadata": {},
   "outputs": [],
   "source": [
    "# # 최적의 하이퍼파라미터 출력\n",
    "# print(\"Best trial:\")\n",
    "# trial = study.best_trial\n",
    "# print(f\"  Value: {trial.value}\")\n",
    "# print(\"  Params: \")\n",
    "# for key, value in trial.params.items():\n",
    "#     print(f\"    {key}: {value}\")\n",
    "\n",
    "# # 최적 하이퍼파라미터로 모델 재학습\n",
    "# best_num_layers = trial.params['num_layers']\n",
    "# best_hidden_dims = [trial.params[f'hidden_dim_{i}'] for i in range(best_num_layers)]\n",
    "\n",
    "# 체크포인트 로드 함수\n",
    "def load_checkpoint(file_path):\n",
    "    checkpoint = torch.load(file_path)\n",
    "    \n",
    "    model_state_dict = checkpoint['model_state_dict']\n",
    "    optimizer_state_dict = checkpoint['optimizer_state_dict']\n",
    "    trial_number = checkpoint['trial_number']\n",
    "    \n",
    "    # 하이퍼파라미터 복원\n",
    "    num_layers = checkpoint.get('num_layers')  # 저장된 num_layers 추출\n",
    "    hidden_dims = checkpoint.get('hidden_dims')  # 저장된 hidden_dims 추출\n",
    "    recon_error = checkpoint.get('recon_error')  # 저장된 recon_error 추출\n",
    "    \n",
    "    print(f\"Loaded checkpoint from trial number {trial_number}\")\n",
    "    print(f\"Number of layers: {num_layers}\")\n",
    "    print(f\"Hidden dimensions: {hidden_dims}\")\n",
    "    print(f\"Reconstruction errors: {recon_error}\")\n",
    "\n",
    "    return model_state_dict, optimizer_state_dict, num_layers, hidden_dims, recon_error"
   ]
  },
  {
   "cell_type": "markdown",
   "metadata": {},
   "source": [
    "### 5. Autoencoder 학습"
   ]
  },
  {
   "cell_type": "code",
   "execution_count": null,
   "metadata": {},
   "outputs": [],
   "source": [
    "# 체크포인트 로드\n",
    "checkpoint_name = ''\n",
    "checkpoint_dir = 'checkpoints'\n",
    "checkpoint_path = os.path.join(checkpoint_dir, checkpoint_name)\n",
    "\n",
    "model_state_dict, optimizer_state_dict, num_layers, hidden_dims, recon_error = load_checkpoint(checkpoint_path)"
   ]
  },
  {
   "cell_type": "code",
   "execution_count": null,
   "metadata": {},
   "outputs": [],
   "source": [
    "# 최종 모델 초기화\n",
    "final_model = Autoencoder(input_dim=X_train.shape[1], hidden_dims=hidden_dims).to(device)\n",
    "final_optimizer = optim.Adam(final_model.parameters(), lr=1e-3)\n",
    "\n",
    "# 모델 및 옵티마이저 상태 복원\n",
    "final_model.load_state_dict(model_state_dict)\n",
    "final_optimizer.load_state_dict(optimizer_state_dict)\n",
    "\n",
    "# 최종 학습 데이터로 모델 학습\n",
    "final_model.train()\n",
    "num_epochs = 10\n",
    "train_loader = DataLoader(TensorDataset(X_train_tensor), batch_size=64, shuffle=True)\n",
    "\n",
    "for epoch in range(num_epochs):\n",
    "    total_loss = 0\n",
    "    for data in train_loader:\n",
    "        batch_data = data[0].to(device)\n",
    "        final_optimizer.zero_grad()\n",
    "        output = final_model(batch_data)\n",
    "        loss = loss_function(output, batch_data)\n",
    "        loss.backward()\n",
    "        final_optimizer.step()\n",
    "        total_loss += loss.item()\n",
    "    print(f'Epoch {epoch+1}/{num_epochs}, Loss: {total_loss / len(train_loader)}')"
   ]
  },
  {
   "cell_type": "markdown",
   "metadata": {},
   "source": [
    "### 6. Autoencoder 추론 및 이상 탐지 결과 도출"
   ]
  },
  {
   "cell_type": "code",
   "execution_count": null,
   "metadata": {},
   "outputs": [],
   "source": [
    "# 테스트 데이터로 이상 탐지 수행\n",
    "def detect_anomaly(data, model, threshold):\n",
    "    model.eval()\n",
    "    with torch.no_grad():\n",
    "        recon = model(data.to(device))\n",
    "        recon_error = torch.mean((recon - data.to(device)) ** 2, dim=1)  # MSE 계산\n",
    "        return recon_error > threshold  # 재구성 오차가 임계값을 넘는 경우 이상으로 판단\n",
    "\n",
    "# 정상 데이터에서 추정한 임계값 설정\n",
    "recon_errors = []\n",
    "final_model.eval()\n",
    "with torch.no_grad():\n",
    "    for data in X_train_tensor:\n",
    "        data = data.unsqueeze(0).to(device)  # 배치 형태로 변경\n",
    "        recon = final_model(data)\n",
    "        error = torch.mean((recon - data) ** 2).item()  # MSE 계산\n",
    "        recon_errors.append(error)\n",
    "\n",
    "# 임계값 설정: 정상 데이터의 평균 재구성 오차 + 3 * 표준편차\n",
    "threshold = torch.tensor(recon_errors).mean() + 3 * torch.tensor(recon_errors).std()\n",
    "\n",
    "# 테스트 데이터로 이상 탐지 수행\n",
    "test_loader = DataLoader(TensorDataset(X_test_tensor), batch_size=64, shuffle=False)\n",
    "results = []\n",
    "\n",
    "with torch.no_grad():\n",
    "    for data in test_loader:\n",
    "        batch_data = data[0].to(device)\n",
    "        is_anomaly = detect_anomaly(batch_data, final_model, threshold)  # 이상 탐지\n",
    "        results.extend(is_anomaly.cpu().numpy())  # 결과를 리스트에 추가"
   ]
  },
  {
   "cell_type": "code",
   "execution_count": null,
   "metadata": {},
   "outputs": [],
   "source": [
    "from datetime import datetime\n",
    "\n",
    "# 결과를 \"faultNumber\"로 변환 (정상이면 0, 비정상이면 1)\n",
    "fault_numbers = [0 if not x else 1 for x in results]\n",
    "\n",
    "# 결과를 DataFrame으로 변환 후 CSV 파일로 저장\n",
    "results_df = pd.DataFrame({'faultNumber': fault_numbers})\n",
    "print(results_df.value_counts())\n",
    "\n",
    "current_time = datetime.now().strftime(\"%Y%m%d_%H%M%S\")\n",
    "filename = f\"output_ae_optuna_{current_time}.csv\"\n",
    "\n",
    "results_df.to_csv(filename)\n",
    "\n",
    "print(\"Anomaly detection results saved to '.csv'.\")"
   ]
  },
  {
   "cell_type": "code",
   "execution_count": null,
   "metadata": {},
   "outputs": [],
   "source": [
    "print(threshold)"
   ]
  }
 ],
 "metadata": {
  "kernelspec": {
   "display_name": "Python 3",
   "language": "python",
   "name": "python3"
  },
  "language_info": {
   "codemirror_mode": {
    "name": "ipython",
    "version": 3
   },
   "file_extension": ".py",
   "mimetype": "text/x-python",
   "name": "python",
   "nbconvert_exporter": "python",
   "pygments_lexer": "ipython3",
   "version": "3.10.15"
  }
 },
 "nbformat": 4,
 "nbformat_minor": 2
}
