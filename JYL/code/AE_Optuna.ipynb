{
 "cells": [
  {
   "cell_type": "markdown",
   "metadata": {},
   "source": [
    "### 1. Import Library"
   ]
  },
  {
   "cell_type": "code",
   "execution_count": 1,
   "metadata": {},
   "outputs": [],
   "source": [
    "# !pip install -r requirements.txt"
   ]
  },
  {
   "cell_type": "code",
   "execution_count": 12,
   "metadata": {},
   "outputs": [],
   "source": [
    "# 필요한 라이브러리 임포트\n",
    "import numpy as np\n",
    "import pandas as pd\n",
    "import random\n",
    "from pathlib import Path\n",
    "import matplotlib.pyplot as plt\n",
    "import plotly.graph_objs as go"
   ]
  },
  {
   "cell_type": "code",
   "execution_count": 13,
   "metadata": {},
   "outputs": [],
   "source": [
    "# 난수 생성 고정\n",
    "RANDOM_SEED = 42\n",
    "np.random.seed(RANDOM_SEED)\n",
    "random.seed(RANDOM_SEED)"
   ]
  },
  {
   "cell_type": "markdown",
   "metadata": {},
   "source": [
    "### 2. Load Train Data & Test Data"
   ]
  },
  {
   "cell_type": "code",
   "execution_count": 14,
   "metadata": {},
   "outputs": [],
   "source": [
    "# 데이터 경로 설정\n",
    "DATA_PATH = Path(\"./data\")"
   ]
  },
  {
   "cell_type": "code",
   "execution_count": 15,
   "metadata": {},
   "outputs": [],
   "source": [
    "train_data = pd.read_csv(DATA_PATH / \"train.csv\")\n",
    "test_data = pd.read_csv(DATA_PATH / \"test.csv\")"
   ]
  },
  {
   "cell_type": "code",
   "execution_count": 16,
   "metadata": {},
   "outputs": [],
   "source": [
    "# 필요 피처 선택\n",
    "non_numeric_cols = [\"faultNumber\", \"simulationRun\", \"sample\"]\n",
    "use_cols = train_data.columns.difference(non_numeric_cols)\n",
    "\n",
    "X_train = train_data[use_cols]\n",
    "X_test = test_data[use_cols]"
   ]
  },
  {
   "cell_type": "code",
   "execution_count": 17,
   "metadata": {},
   "outputs": [
    {
     "name": "stdout",
     "output_type": "stream",
     "text": [
      "52\n",
      "52\n"
     ]
    }
   ],
   "source": [
    "print(len(X_train.columns))\n",
    "print(len(X_test.columns))"
   ]
  },
  {
   "cell_type": "code",
   "execution_count": 18,
   "metadata": {},
   "outputs": [],
   "source": [
    "# 필요한 라이브러리 임포트 \n",
    "from sklearn.preprocessing import MinMaxScaler, RobustScaler\n",
    "from torch.utils.data import DataLoader, TensorDataset \n",
    "import torch\n",
    "\n",
    "# 데이터 스케일러 인스턴스 생성(데이터 표준화)\n",
    "## 어떤 스케일러를 적용해야하는가?\n",
    "scaler = MinMaxScaler() \n",
    "# 학습 데이터셋에 대해 fit과 transform 수행: train 기준 정보 계산 및 데이터 변환\n",
    "X_train_scaled = scaler.fit_transform(X_train) \n",
    "# 테스트 데이터셋에 대해서는 transform만 수행: 학습 데이터셋의 기준 정보를 사용하여 데이터 변환\n",
    "X_test_scaled = scaler.transform(X_test)  \n",
    "\n",
    "# PyTorch Tensor로 변환 \n",
    "X_train_tensor = torch.FloatTensor(X_train_scaled) \n",
    "X_test_tensor = torch.FloatTensor(X_test_scaled)"
   ]
  },
  {
   "cell_type": "code",
   "execution_count": 19,
   "metadata": {},
   "outputs": [],
   "source": [
    "# GPU 설정\n",
    "device = torch.device('cuda' if torch.cuda.is_available() else 'cpu')"
   ]
  },
  {
   "cell_type": "markdown",
   "metadata": {},
   "source": [
    "### 3. Autoencoder 구현 및 학습, 추론"
   ]
  },
  {
   "cell_type": "code",
   "execution_count": 20,
   "metadata": {},
   "outputs": [],
   "source": [
    "import torch\n",
    "import torch.nn as nn\n",
    "import torch.optim as optim\n",
    "from torch.utils.data import DataLoader, TensorDataset\n",
    "import optuna\n",
    "import os\n",
    "\n",
    "# 오토인코더 정의\n",
    "class Autoencoder(nn.Module):\n",
    "    def __init__(self, input_dim, hidden_dims):\n",
    "        super(Autoencoder, self).__init__()\n",
    "        layers = []\n",
    "        # 인코더 레이어 추가\n",
    "        in_dim = input_dim\n",
    "        for hidden_dim in hidden_dims:\n",
    "            layers.append(nn.Linear(in_dim, hidden_dim))\n",
    "            layers.append(nn.ReLU())\n",
    "            in_dim = hidden_dim\n",
    "        \n",
    "        self.encoder = nn.Sequential(*layers)  # 인코더 레이어\n",
    "        self.decoder = nn.Sequential(\n",
    "            nn.Linear(hidden_dims[-1], input_dim),  # 마지막 인코더 레이어의 출력 크기와 같아야 함\n",
    "            nn.Sigmoid()\n",
    "        )\n",
    "    \n",
    "    def forward(self, x):\n",
    "        encoded = self.encoder(x)\n",
    "        decoded = self.decoder(encoded)\n",
    "        return decoded\n",
    "\n",
    "# 손실 함수 정의\n",
    "def loss_function(recon_x, x):\n",
    "    return nn.MSELoss()(recon_x, x)  # 재구성 손실\n",
    "\n",
    "# 체크포인트 저장 함수 (수정 필요)\n",
    "def save_checkpoint(model, optimizer, trial, file_path):\n",
    "    torch.save({\n",
    "        'model_state_dict': model.state_dict(),\n",
    "        'optimizer_state_dict': optimizer.state_dict(),\n",
    "        'trial_number': trial.number\n",
    "    }, file_path)"
   ]
  },
  {
   "cell_type": "code",
   "execution_count": null,
   "metadata": {},
   "outputs": [],
   "source": [
    "# 목적 함수 정의 (Optuna 최적화 대상)\n",
    "def objective(trial):\n",
    "    # 하이퍼파라미터 샘플링\n",
    "    num_layers = trial.suggest_int('num_layers', 1, 3)  # 레이어 수를 1에서 4까지 샘플링\n",
    "    hidden_dims = [trial.suggest_int(f'hidden_dim_{i}', 8, 32) for i in range(num_layers)]  # 각 레이어의 노드 수 샘플링\n",
    "    # learning_rate = trial.suggest_loguniform('learning_rate', 1e-5, 1e-2)  # learning_rate 샘플링\n",
    "    \n",
    "    # 데이터 로드\n",
    "    input_dim = X_train_tensor.shape[1]\n",
    "    \n",
    "    # 학습 데이터만 사용하여 학습 (정상 데이터)\n",
    "    train_loader = DataLoader(TensorDataset(X_train_tensor), batch_size=64, shuffle=True)\n",
    "\n",
    "    # 모델 초기화\n",
    "    model = Autoencoder(input_dim=input_dim, hidden_dims=hidden_dims).to(device)\n",
    "    optimizer = optim.Adam(model.parameters(), lr=1e-3)\n",
    "\n",
    "    # 체크포인트 저장 경로 설정\n",
    "    checkpoint_dir = 'checkpoints'\n",
    "    os.makedirs(checkpoint_dir, exist_ok=True)\n",
    "    checkpoint_path = os.path.join(checkpoint_dir, f'checkpoint_trial_{trial.number}.pt')\n",
    "\n",
    "    # 학습 과정\n",
    "    model.train()\n",
    "    num_epochs = 10\n",
    "    for epoch in range(num_epochs):\n",
    "        total_loss = 0\n",
    "        for data in train_loader:\n",
    "            batch_data = data[0].to(device)\n",
    "            optimizer.zero_grad()\n",
    "            output = model(batch_data)\n",
    "            loss = loss_function(output, batch_data)\n",
    "            loss.backward()\n",
    "            optimizer.step()\n",
    "            total_loss += loss.item()\n",
    "        \n",
    "        # 에포크마다 체크포인트 저장\n",
    "        save_checkpoint(model, optimizer, trial, checkpoint_path)\n",
    "\n",
    "    # 재구성 오차를 사용하여 모델 평가\n",
    "    recon_errors = []\n",
    "    model.eval()\n",
    "    with torch.no_grad():\n",
    "        for data in X_train_tensor:\n",
    "            data = data.unsqueeze(0).to(device)  # 배치 형태로 변경\n",
    "            recon = model(data)\n",
    "            error = torch.mean((recon - data) ** 2).item()  # MSE 계산\n",
    "            recon_errors.append(error)\n",
    "\n",
    "    # 최종 재구성 오차의 평균을 반환 (최소화할 목표)\n",
    "    return torch.tensor(recon_errors).mean().item()  # 평균 재구성 오차\n",
    "\n",
    "# Optuna 스터디 실행\n",
    "study = optuna.create_study(direction='minimize')\n",
    "study.optimize(objective, n_trials=100)\n",
    "\n",
    "# 최적의 하이퍼파라미터 출력\n",
    "print(\"Best trial:\")\n",
    "trial = study.best_trial\n",
    "print(f\"  Value: {trial.value}\")\n",
    "print(\"  Params: \")\n",
    "for key, value in trial.params.items():\n",
    "    print(f\"    {key}: {value}\")"
   ]
  },
  {
   "cell_type": "code",
   "execution_count": 21,
   "metadata": {},
   "outputs": [],
   "source": [
    "import torch\n",
    "\n",
    "# 최적 하이퍼파라미터로 모델 재학습\n",
    "# best_num_layers = trial.params['num_layers']\n",
    "# best_hidden_dims = [trial.params[f'hidden_dim_{i}'] for i in range(best_num_layers)]\n",
    "best_num_layers = 1\n",
    "best_hidden_dims = [31]\n",
    "\n",
    "# # 체크포인트 로드하는 함수\n",
    "# def load_best_checkpoint(filepath):\n",
    "#     checkpoint = torch.load(filepath)\n",
    "#     model_state_dict = checkpoint['model_state_dict']\n",
    "#     optimizer_state_dict = checkpoint['optimizer_state_dict']\n",
    "#     epoch = checkpoint['epoch']\n",
    "#     loss = checkpoint['loss']\n",
    "#     hyperparams = checkpoint['hyperparams']\n",
    "\n",
    "#     print(f\"Best checkpoint loaded from: {filepath}\")\n",
    "#     print(f\"Loaded model from epoch: {epoch}, with validation loss: {loss:.4f}\")\n",
    "#     print(\"Hyperparameters:\", hyperparams)\n",
    "#     return epoch, loss, hyperparams\n",
    "\n",
    "# # 체크포인트 로드\n",
    "# start_epoch, best_loss, best_hyperparams = load_best_checkpoint('./checkpoints/checkpoint_trial_22.pt')\n",
    "# print(f\"Loaded from epoch: {start_epoch}, Best validation loss: {best_loss:.4f}\")\n",
    "# print(\"Hyperparameters: \", best_hyperparams)"
   ]
  },
  {
   "cell_type": "code",
   "execution_count": 22,
   "metadata": {},
   "outputs": [
    {
     "name": "stdout",
     "output_type": "stream",
     "text": [
      "Epoch 1/10, Loss: 0.005548735258856225\n",
      "Epoch 2/10, Loss: 0.0038746538866880546\n",
      "Epoch 3/10, Loss: 0.0037469227829509937\n",
      "Epoch 4/10, Loss: 0.0037295030929231153\n",
      "Epoch 5/10, Loss: 0.00372040592376424\n",
      "Epoch 6/10, Loss: 0.0037139145141223836\n",
      "Epoch 7/10, Loss: 0.0037094439158303362\n",
      "Epoch 8/10, Loss: 0.003706689888782111\n",
      "Epoch 9/10, Loss: 0.00370377482355808\n",
      "Epoch 10/10, Loss: 0.003702098612287655\n"
     ]
    }
   ],
   "source": [
    "# 최종 모델 초기화\n",
    "final_model = Autoencoder(input_dim=X_train.shape[1], hidden_dims=best_hidden_dims).to(device)\n",
    "final_optimizer = optim.Adam(final_model.parameters(), lr=1e-3)\n",
    "\n",
    "# 최종 학습 데이터로 모델 학습\n",
    "final_model.train()\n",
    "num_epochs = 10\n",
    "train_loader = DataLoader(TensorDataset(X_train_tensor), batch_size=64, shuffle=True)\n",
    "\n",
    "for epoch in range(num_epochs):\n",
    "    total_loss = 0\n",
    "    for data in train_loader:\n",
    "        batch_data = data[0].to(device)\n",
    "        final_optimizer.zero_grad()\n",
    "        output = final_model(batch_data)\n",
    "        loss = loss_function(output, batch_data)\n",
    "        loss.backward()\n",
    "        final_optimizer.step()\n",
    "        total_loss += loss.item()\n",
    "    print(f'Epoch {epoch+1}/{num_epochs}, Loss: {total_loss / len(train_loader)}')\n",
    "\n",
    "# 테스트 데이터로 이상 탐지 수행\n",
    "def detect_anomaly(data, model, threshold):\n",
    "    model.eval()\n",
    "    with torch.no_grad():\n",
    "        recon = model(data.to(device))\n",
    "        recon_error = torch.mean((recon - data.to(device)) ** 2, dim=1)  # MSE 계산\n",
    "        return recon_error > threshold  # 재구성 오차가 임계값을 넘는 경우 이상으로 판단\n",
    "\n",
    "# 정상 데이터에서 추정한 임계값 설정\n",
    "recon_errors = []\n",
    "final_model.eval()\n",
    "with torch.no_grad():\n",
    "    for data in X_train_tensor:\n",
    "        data = data.unsqueeze(0).to(device)  # 배치 형태로 변경\n",
    "        recon = final_model(data)\n",
    "        error = torch.mean((recon - data) ** 2).item()  # MSE 계산\n",
    "        recon_errors.append(error)\n",
    "\n",
    "# 임계값 설정: 정상 데이터의 평균 재구성 오차 + 3 * 표준편차\n",
    "threshold = torch.tensor(recon_errors).mean() + 3 * torch.tensor(recon_errors).std()\n",
    "\n",
    "# 테스트 데이터로 이상 탐지 수행\n",
    "test_loader = DataLoader(TensorDataset(X_test_tensor), batch_size=64, shuffle=False)\n",
    "results = []\n",
    "\n",
    "with torch.no_grad():\n",
    "    for data in test_loader:\n",
    "        batch_data = data[0].to(device)\n",
    "        is_anomaly = detect_anomaly(batch_data, final_model, threshold)  # 이상 탐지\n",
    "        results.extend(is_anomaly.cpu().numpy())  # 결과를 리스트에 추가"
   ]
  },
  {
   "cell_type": "code",
   "execution_count": 23,
   "metadata": {},
   "outputs": [
    {
     "name": "stdout",
     "output_type": "stream",
     "text": [
      "faultNumber\n",
      "0              578109\n",
      "1              132291\n",
      "Name: count, dtype: int64\n",
      "Anomaly detection results saved to '.csv'.\n"
     ]
    }
   ],
   "source": [
    "from datetime import datetime\n",
    "\n",
    "# 결과를 \"faultNumber\"로 변환 (정상이면 0, 비정상이면 1)\n",
    "fault_numbers = [0 if not x else 1 for x in results]\n",
    "\n",
    "# 결과를 DataFrame으로 변환 후 CSV 파일로 저장\n",
    "results_df = pd.DataFrame({'faultNumber': fault_numbers})\n",
    "print(results_df.value_counts())\n",
    "\n",
    "current_time = datetime.now().strftime(\"%Y%m%d_%H%M%S\")\n",
    "filename = f\"output_ae_optuna_{current_time}.csv\"\n",
    "\n",
    "results_df.to_csv(filename)\n",
    "\n",
    "print(\"Anomaly detection results saved to '.csv'.\")"
   ]
  },
  {
   "cell_type": "code",
   "execution_count": 24,
   "metadata": {},
   "outputs": [
    {
     "name": "stdout",
     "output_type": "stream",
     "text": [
      "tensor(0.0072)\n"
     ]
    }
   ],
   "source": [
    "print(threshold)"
   ]
  }
 ],
 "metadata": {
  "kernelspec": {
   "display_name": "Python 3",
   "language": "python",
   "name": "python3"
  },
  "language_info": {
   "codemirror_mode": {
    "name": "ipython",
    "version": 3
   },
   "file_extension": ".py",
   "mimetype": "text/x-python",
   "name": "python",
   "nbconvert_exporter": "python",
   "pygments_lexer": "ipython3",
   "version": "3.10.15"
  }
 },
 "nbformat": 4,
 "nbformat_minor": 2
}
